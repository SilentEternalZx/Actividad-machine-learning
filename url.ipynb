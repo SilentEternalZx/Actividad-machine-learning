{
 "cells": [
  {
   "cell_type": "markdown",
   "metadata": {},
   "source": [
    "Solución actividad 3\n"
   ]
  },
  {
   "cell_type": "code",
   "execution_count": null,
   "metadata": {},
   "outputs": [],
   "source": [
    "pip install pandas\n"
   ]
  },
  {
   "cell_type": "code",
   "execution_count": null,
   "metadata": {},
   "outputs": [],
   "source": [
    "pip install matplotlib"
   ]
  },
  {
   "cell_type": "code",
   "execution_count": null,
   "metadata": {},
   "outputs": [],
   "source": [
    "pip install openpyxl"
   ]
  },
  {
   "cell_type": "code",
   "execution_count": 28,
   "metadata": {},
   "outputs": [],
   "source": [
    "import pandas as pd\n",
    "import matplotlib.pyplot as plt\n",
    "import matplotlib as plt"
   ]
  },
  {
   "cell_type": "code",
   "execution_count": null,
   "metadata": {},
   "outputs": [],
   "source": [
    "url =  \"https://raw.githubusercontent.com/rubisabel00/ciencias-de-datos-Sena/main/DocumentosNB03/clientes.csv\"\n",
    "datasetExcelURL = pd.read_csv(url)\n",
    "\n",
    "\n",
    "\n"
   ]
  },
  {
   "cell_type": "code",
   "execution_count": null,
   "metadata": {},
   "outputs": [],
   "source": [
    "datasetExcelURL.head()\n",
    "\n",
    "datasetExcelURL.tail()\n",
    "\n",
    "datasetExcelURL.info()\n",
    "\n",
    "\n",
    "\n",
    "\n",
    "\n",
    "\n",
    "\n",
    "\n",
    "\n",
    "\n"
   ]
  },
  {
   "cell_type": "code",
   "execution_count": null,
   "metadata": {},
   "outputs": [],
   "source": [
    "datasetNuevo = datasetExcelURL.dropna()\n",
    "\n",
    "datasetNuevo.describe()\n",
    " \n",
    "datasetNuevo.head()"
   ]
  },
  {
   "cell_type": "code",
   "execution_count": null,
   "metadata": {},
   "outputs": [],
   "source": [
    "tabla_dinamica = datasetNuevo.pivot_table(\n",
    "    values='Valor promedio de la compra', \n",
    "    index='Categoría de productos comprados', \n",
    "    columns='Método de pago', \n",
    "    aggfunc='mean'\n",
    ")\n",
    "\n",
    "\n",
    "tabla_dinamica.plot()"
   ]
  },
  {
   "cell_type": "code",
   "execution_count": null,
   "metadata": {},
   "outputs": [],
   "source": [
    "est_programa_genero = datasetNuevo.groupby(['Método de pago','Categoría de productos comprados']).agg({'Método de pago': 'count'})\n",
    "\n",
    "est_programa_genero\n",
    "\n",
    "promedio_edad = datasetNuevo['Edad'].mean()\n",
    "\n",
    "# Agregar una nueva columna con el promedio de la edad\n",
    "datasetNuevo['Promedio de Edad'] = promedio_edad"
   ]
  },
  {
   "cell_type": "code",
   "execution_count": 39,
   "metadata": {},
   "outputs": [],
   "source": [
    "# datasetNuevo\n",
    "\n",
    "datasetNuevo.to_excel('./datos/datos.xlsx', index=False)"
   ]
  }
 ],
 "metadata": {
  "kernelspec": {
   "display_name": "Python 3",
   "language": "python",
   "name": "python3"
  },
  "language_info": {
   "codemirror_mode": {
    "name": "ipython",
    "version": 3
   },
   "file_extension": ".py",
   "mimetype": "text/x-python",
   "name": "python",
   "nbconvert_exporter": "python",
   "pygments_lexer": "ipython3",
   "version": "3.12.7"
  }
 },
 "nbformat": 4,
 "nbformat_minor": 2
}
