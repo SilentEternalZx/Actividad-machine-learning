{
 "cells": [
  {
   "cell_type": "markdown",
   "metadata": {},
   "source": [
    "Solución activitad"
   ]
  },
  {
   "cell_type": "code",
   "execution_count": 45,
   "metadata": {},
   "outputs": [
    {
     "name": "stderr",
     "output_type": "stream",
     "text": [
      "C:\\Users\\julia\\AppData\\Local\\Temp\\ipykernel_16836\\1954938910.py:43: SettingWithCopyWarning: \n",
      "A value is trying to be set on a copy of a slice from a DataFrame.\n",
      "Try using .loc[row_indexer,col_indexer] = value instead\n",
      "\n",
      "See the caveats in the documentation: https://pandas.pydata.org/pandas-docs/stable/user_guide/indexing.html#returning-a-view-versus-a-copy\n",
      "  datasetNuevo['Promedio de Edad'] = promedio_edad\n"
     ]
    }
   ],
   "source": [
    "import pandas as pd\n",
    "url =  \"https://raw.githubusercontent.com/rubisabel00/ciencias-de-datos-Sena/main/DocumentosNB03/clientes.csv\"\n",
    "datasetExcelURL = pd.read_csv(url)\n",
    "\n",
    "\n",
    "\n",
    "datasetExcelURL.head()\n",
    "\n",
    "#datasetExcelURL.tail()\n",
    "\n",
    "#datasetExcelURL.info()\n",
    "\n",
    "\n",
    "\n",
    "datasetNuevo = datasetExcelURL.dropna()\n",
    "\n",
    " #datasetNuevo.describe()\n",
    " \n",
    "datasetNuevo.head()\n",
    "\n",
    "tabla_dinamica = datasetNuevo.pivot_table(\n",
    "    values='Valor promedio de la compra', \n",
    "    index='Categoría de productos comprados', \n",
    "    columns='Método de pago', \n",
    "    aggfunc='mean'\n",
    ")\n",
    "\n",
    "\n",
    "#tabla_dinamica.plot()\n",
    "\n",
    "\n",
    "\n",
    "\n",
    "\n",
    "\n",
    "# #est_programa_genero = datasetNuevo.groupby(['Método de pago','Categoría de productos comprados']).agg({'Método de pago': 'count'})\n",
    "\n",
    "# #est_programa_genero\n",
    "\n",
    "promedio_edad = datasetNuevo['Edad'].mean()\n",
    "\n",
    "# Agregar una nueva columna con el promedio de la edad\n",
    "datasetNuevo['Promedio de Edad'] = promedio_edad\n",
    "\n",
    "\n",
    "datasetNuevo\n",
    "\n",
    "datasetNuevo.to_excel('./datos/datos.xlsx', index=False)"
   ]
  }
 ],
 "metadata": {
  "kernelspec": {
   "display_name": "venv",
   "language": "python",
   "name": "python3"
  },
  "language_info": {
   "codemirror_mode": {
    "name": "ipython",
    "version": 3
   },
   "file_extension": ".py",
   "mimetype": "text/x-python",
   "name": "python",
   "nbconvert_exporter": "python",
   "pygments_lexer": "ipython3",
   "version": "3.13.2"
  }
 },
 "nbformat": 4,
 "nbformat_minor": 2
}
