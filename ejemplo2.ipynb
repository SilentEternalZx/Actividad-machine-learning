{
 "cells": [
  {
   "cell_type": "code",
   "execution_count": 1,
   "metadata": {},
   "outputs": [],
   "source": [
    "import pandas as pd"
   ]
  },
  {
   "cell_type": "code",
   "execution_count": 29,
   "metadata": {},
   "outputs": [
    {
     "name": "stdout",
     "output_type": "stream",
     "text": [
      "<class 'pandas.core.frame.DataFrame'>\n",
      "RangeIndex: 20 entries, 0 to 19\n",
      "Data columns (total 9 columns):\n",
      " #   Column       Non-Null Count  Dtype \n",
      "---  ------       --------------  ----- \n",
      " 0   ITEM         20 non-null     int64 \n",
      " 1   NOMBRES      20 non-null     object\n",
      " 2   APELLIDOS    20 non-null     object\n",
      " 3   Programa     20 non-null     object\n",
      " 4   Genero       20 non-null     object\n",
      " 5   Matematicas  18 non-null     object\n",
      " 6   Español      20 non-null     object\n",
      " 7   Ciencias     19 non-null     object\n",
      " 8   Idiomas      18 non-null     object\n",
      "dtypes: int64(1), object(8)\n",
      "memory usage: 1.5+ KB\n",
      "Programa\n",
      "Sistemas          6\n",
      "Contabilidad      4\n",
      "Mercadeo          4\n",
      "Administracion    3\n",
      "Salud             3\n",
      "Name: count, dtype: int64\n"
     ]
    },
    {
     "data": {
      "text/html": [
       "<div>\n",
       "<style scoped>\n",
       "    .dataframe tbody tr th:only-of-type {\n",
       "        vertical-align: middle;\n",
       "    }\n",
       "\n",
       "    .dataframe tbody tr th {\n",
       "        vertical-align: top;\n",
       "    }\n",
       "\n",
       "    .dataframe thead th {\n",
       "        text-align: right;\n",
       "    }\n",
       "</style>\n",
       "<table border=\"1\" class=\"dataframe\">\n",
       "  <thead>\n",
       "    <tr style=\"text-align: right;\">\n",
       "      <th></th>\n",
       "      <th>ITEM</th>\n",
       "      <th>NOMBRES</th>\n",
       "      <th>APELLIDOS</th>\n",
       "      <th>Programa</th>\n",
       "      <th>Genero</th>\n",
       "      <th>Matematicas</th>\n",
       "      <th>Español</th>\n",
       "      <th>Ciencias</th>\n",
       "      <th>Idiomas</th>\n",
       "    </tr>\n",
       "  </thead>\n",
       "  <tbody>\n",
       "    <tr>\n",
       "      <th>15</th>\n",
       "      <td>16</td>\n",
       "      <td>Pedro</td>\n",
       "      <td>López</td>\n",
       "      <td>Contabilidad</td>\n",
       "      <td>Masculino</td>\n",
       "      <td>4,08</td>\n",
       "      <td>1,68</td>\n",
       "      <td>4,16</td>\n",
       "      <td>2,94</td>\n",
       "    </tr>\n",
       "  </tbody>\n",
       "</table>\n",
       "</div>"
      ],
      "text/plain": [
       "    ITEM NOMBRES APELLIDOS      Programa     Genero Matematicas Español  \\\n",
       "15    16   Pedro     López  Contabilidad  Masculino        4,08    1,68   \n",
       "\n",
       "   Ciencias Idiomas  \n",
       "15     4,16    2,94  "
      ]
     },
     "execution_count": 29,
     "metadata": {},
     "output_type": "execute_result"
    }
   ],
   "source": [
    "df_file_csv=pd.read_csv('./datos/CalificacionesTXT.csv')\n",
    "\n",
    "df_file_csv #Mostrar todos los datos\n",
    "\n",
    "df_file_csv.head() #Mostrar los 5 primeros datos\n",
    "\n",
    "df_file_csv.info() #Información de los elementos de la tabla\n",
    "\n",
    "df_file_csv.describe() #Parte estadística del data set\n",
    "\n",
    "df_column='Programa'\n",
    "\n",
    "print(df_file_csv['Programa'].value_counts())\n",
    "\n",
    "filtro_column=df_file_csv[(df_file_csv['Programa']==\"Contabilidad\") & (df_file_csv['Genero']==\"Masculino\")]\n",
    "\n",
    "\n",
    "filtro_column=df_file_csv[(df_file_csv['Programa']==\"Contabilidad\") & (df_file_csv['Genero']==\"Masculino\") & (df_file_csv['Matematicas']> '4') ]\n",
    "\n",
    "filtro_column\n",
    "\n",
    "\n",
    "\n",
    "\n",
    "\n",
    "\n",
    "\n",
    "\n",
    "\n",
    "\n",
    "\n",
    "\n",
    "\n",
    "\n"
   ]
  }
 ],
 "metadata": {
  "kernelspec": {
   "display_name": "venv",
   "language": "python",
   "name": "python3"
  },
  "language_info": {
   "codemirror_mode": {
    "name": "ipython",
    "version": 3
   },
   "file_extension": ".py",
   "mimetype": "text/x-python",
   "name": "python",
   "nbconvert_exporter": "python",
   "pygments_lexer": "ipython3",
   "version": "3.13.2"
  }
 },
 "nbformat": 4,
 "nbformat_minor": 2
}
