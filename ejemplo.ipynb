{
 "cells": [
  {
   "cell_type": "code",
   "execution_count": 1,
   "metadata": {},
   "outputs": [],
   "source": [
    "import pandas as pd\n",
    "import numpy as np\n",
    "import matplotlib as plt\n",
    "\n",
    "\n"
   ]
  },
  {
   "cell_type": "code",
   "execution_count": 10,
   "metadata": {},
   "outputs": [
    {
     "name": "stdout",
     "output_type": "stream",
     "text": [
      "[1 2 3]\n",
      "Dimensión: (3,)\n",
      "Cantidad de dimensiones: (3,)\n",
      "Cantidad de dimensiones: 1\n",
      "Cantidad total de elementos: 3\n",
      "Tipo de dato: int64\n",
      "Tamaño en bytes de cada elemento: 8\n",
      "Datos de una matriz en objeto buffer: <memory at 0x0000023D3A3B4B80>\n",
      "Tipo de dato: <U5\n"
     ]
    }
   ],
   "source": [
    "vector=np.array([1,2,3])\n",
    "\n",
    "print(vector)\n",
    "\n",
    "print(f'Dimensión: {vector.shape}')\n",
    "\n",
    "\n",
    "print(f'Cantidad de dimensiones: {vector.shape}') \n",
    "print(f'Cantidad de dimensiones: {vector.ndim}') \n",
    "print(f'Cantidad total de elementos: {vector.size}') \n",
    "print(f'Tipo de dato: {vector.dtype}') \n",
    "print(f'Tamaño en bytes de cada elemento: {vector.itemsize}') \n",
    "print(f'Datos de una matriz en objeto buffer: {vector.data}') \n",
    "\n",
    "vector2=np.array([\"Hola\",\"Adiós\"])\n",
    "\n",
    "print(f'Tipo de dato: {vector2.dtype}')"
   ]
  },
  {
   "cell_type": "markdown",
   "metadata": {},
   "source": []
  },
  {
   "cell_type": "code",
   "execution_count": 12,
   "metadata": {},
   "outputs": [
    {
     "name": "stdout",
     "output_type": "stream",
     "text": [
      "51\n"
     ]
    }
   ],
   "source": [
    "vector1=np.array([2,3,4])\n",
    "vector2=np.array([4,5,7])\n",
    "\n",
    "resultado=np.dot(vector1,vector2)\n",
    "\n",
    "print(resultado)"
   ]
  },
  {
   "cell_type": "code",
   "execution_count": null,
   "metadata": {},
   "outputs": [
    {
     "name": "stdout",
     "output_type": "stream",
     "text": [
      "[[1 2 4 5]\n",
      " [3 4 6 8]\n",
      " [2 5 7 1]\n",
      " [2 4 6 0]]\n",
      "(4, 4)\n",
      "[[1 2 4 5 3 4 6 8]\n",
      " [2 5 7 1 2 4 6 0]]\n",
      "[[1 3 2 2]\n",
      " [2 4 5 4]\n",
      " [4 6 7 6]\n",
      " [5 8 1 0]]\n"
     ]
    }
   ],
   "source": [
    "matriz=np.array(([1,2,4,5], [3,4,6,8] , [2,5,7,1], [2,4,6,0]))\n",
    "\n",
    "\n",
    "print(matriz)\n",
    "\n",
    "\n",
    "print(matriz.shape)\n",
    "\n",
    "matriz_reshape=matriz.reshape(2,8)\n",
    "\n",
    "print(matriz_reshape)\n",
    "\n",
    "matriz_transpose=matriz.transpose()\n",
    "\n",
    "print(matriz_transpose)"
   ]
  },
  {
   "cell_type": "markdown",
   "metadata": {},
   "source": [
    "Ejercicios Numpy\n"
   ]
  },
  {
   "cell_type": "code",
   "execution_count": 4,
   "metadata": {},
   "outputs": [
    {
     "name": "stdout",
     "output_type": "stream",
     "text": [
      "[[ True  True  True]\n",
      " [ True  True  True]\n",
      " [ True  True  True]]\n",
      "[ 0 -1  2 -1  4 -1  6 -1  8 -1]\n",
      "[[0 1 2 3 4]\n",
      " [5 6 7 8 9]]\n"
     ]
    }
   ],
   "source": [
    "matriz=np.ones((3,3), dtype=bool)\n",
    "\n",
    "\n",
    "print(matriz)\n",
    "\n",
    "arr = np.array([0, 1, 2, 3, 4, 5, 6, 7, 8, 9])\n",
    "\n",
    "for i in arr:\n",
    "    if i%2!=0:\n",
    "       arr[i]=-1\n",
    "       \n",
    "       \n",
    "print(arr)\n",
    "\n",
    "arr2 = np.array([ 0, 1, 2, 3, 4, 5, 6, 7, 8, 9])\n",
    "\n",
    "reshape=arr2.reshape(2,5)\n",
    "\n",
    "print(reshape)"
   ]
  },
  {
   "cell_type": "code",
   "execution_count": null,
   "metadata": {},
   "outputs": [],
   "source": []
  }
 ],
 "metadata": {
  "kernelspec": {
   "display_name": "venv",
   "language": "python",
   "name": "python3"
  },
  "language_info": {
   "codemirror_mode": {
    "name": "ipython",
    "version": 3
   },
   "file_extension": ".py",
   "mimetype": "text/x-python",
   "name": "python",
   "nbconvert_exporter": "python",
   "pygments_lexer": "ipython3",
   "version": "3.13.2"
  }
 },
 "nbformat": 4,
 "nbformat_minor": 2
}
